{
 "cells": [
  {
   "cell_type": "code",
   "execution_count": 2,
   "metadata": {},
   "outputs": [],
   "source": [
    "import numpy as np\n",
    "import pandas as pd\n",
    "import json\n",
    "import os"
   ]
  },
  {
   "cell_type": "markdown",
   "metadata": {},
   "source": [
    "## Load latest full error"
   ]
  },
  {
   "cell_type": "code",
   "execution_count": 3,
   "metadata": {},
   "outputs": [],
   "source": [
    "full_err_df = pd.read_csv(\"Full/full_err.csv\", index_col=0)"
   ]
  },
  {
   "cell_type": "markdown",
   "metadata": {},
   "source": [
    "# Cross validation training"
   ]
  },
  {
   "cell_type": "markdown",
   "metadata": {},
   "source": [
    "### Wrapped Cross Validation Grid Search Trainer"
   ]
  },
  {
   "cell_type": "code",
   "execution_count": 4,
   "metadata": {},
   "outputs": [],
   "source": [
    "from numpy import mean, absolute\n",
    "from itertools import combinations\n",
    "from sklearn.model_selection import KFold, GroupKFold, GridSearchCV\n",
    "from sklearn.pipeline import Pipeline\n",
    "from sklearn.preprocessing import PowerTransformer, QuantileTransformer\n",
    "from sklearn.compose import TransformedTargetRegressor\n",
    "from sklearn.metrics import make_scorer, mean_absolute_error, mean_absolute_percentage_error\n",
    "from tqdm.notebook import tqdm  # Use tqdm.notebook for Jupyter\n",
    "from IPython.display import clear_output\n",
    "import os\n",
    "\n",
    "def run_feature_subset_cv(\n",
    "    f_full, \n",
    "    input_features, \n",
    "    target_feature, \n",
    "    model, \n",
    "    model_params, \n",
    "    extra_features=[], \n",
    "    use_gpu_cv=False,\n",
    "    use_feature_subsets=True, \n",
    "    refit_error='MAPE', #MAPE OR MAE\n",
    "    output_folder=\"CV_results\"\n",
    "):\n",
    "    \n",
    "    # Prepare input and target\n",
    "    X_full = f_full[input_features+extra_features]\n",
    "    y = f_full[target_feature]\n",
    "    groups = f_full['Name'] if use_gpu_cv else None  # Use 'Name' for GroupKFold if applicable\n",
    "\n",
    "    # Generate feature subsets or use all features\n",
    "    if use_feature_subsets:\n",
    "        feature_subsets = []\n",
    "        for r in range(1, len(X_full[input_features].columns) + 1):  # r = subset size (1 to len(columns))\n",
    "            feature_subsets.extend(combinations(X_full[input_features].columns, r))\n",
    "    else:\n",
    "        feature_subsets = [input_features]  # Use all input features as one subset\n",
    "    \n",
    "    # Define cross-validation strategy\n",
    "    cv = GroupKFold(n_splits=5) if use_gpu_cv else KFold(n_splits=10, shuffle=True, random_state=1)\n",
    "\n",
    "    # Define scoring metrics\n",
    "    scorer_mae = make_scorer(mean_absolute_error, greater_is_better=False)\n",
    "    scorer_mape = make_scorer(mean_absolute_percentage_error, greater_is_better=False)\n",
    "\n",
    "    # Store results\n",
    "    results = []\n",
    "\n",
    "    print(f\"Testing {len(feature_subsets)} feature subset(s)...\")\n",
    "    with tqdm(total=len(feature_subsets), desc=\"Progress\", unit=\"subset\") as pbar, \\\n",
    "         tqdm(total=len(feature_subsets), desc=\"Custom Text\", unit=\"update\") as text_pbar:\n",
    "                # Iterate over feature subsets\n",
    "        for features in feature_subsets:\n",
    "            # Subset the input data\n",
    "            X = X_full[list(features)+extra_features]\n",
    "\n",
    "            # Create GridSearchCV object\n",
    "            grid_search = GridSearchCV(\n",
    "                estimator=model,\n",
    "                param_grid=model_params,\n",
    "                scoring={'MAE': scorer_mae, 'MAPE': scorer_mape},\n",
    "                refit=refit_error,  # Optimize based on MAPE\n",
    "                cv=cv.split(X, y, groups) if use_gpu_cv else cv,\n",
    "                verbose=0,\n",
    "                n_jobs=-1  # Use all available cores\n",
    "            )\n",
    "\n",
    "            # Fit GridSearchCV\n",
    "            grid_search.fit(X, y)\n",
    "\n",
    "            # Append results\n",
    "            results.append({\n",
    "                'features': list(features)+extra_features,\n",
    "                'best_params': grid_search.best_params_,\n",
    "                'best_mae': -grid_search.cv_results_['mean_test_MAE'][grid_search.best_index_],\n",
    "                'best_mape': -grid_search.cv_results_['mean_test_MAPE'][grid_search.best_index_]\n",
    "            })\n",
    "            \n",
    "            pbar.set_postfix({\"current_subset\": str(list(features)+extra_features), \"current_mae\": round(results[-1]['best_mae'], 3),\"current_mape\": round(results[-1]['best_mape'], 3)})\n",
    "            text_pbar.set_description_str(\n",
    "                f\"> best_mae:{round(min(results, key=lambda x: x['best_mae'])['best_mae'], 3)}\\n\"+\n",
    "                f\"> best_mape:{round(min(results, key=lambda x: x['best_mape'])['best_mape'], 3)}\\n\"+\n",
    "                f\"> best_params:{min(results, key=lambda x: x['best_mape'])['best_params']}\\n\"+\n",
    "                f\"> best_features:{min(results, key=lambda x: x['best_mape'])['features']}\")\n",
    "            pbar.update(1)\n",
    "            text_pbar.update(1)\n",
    "\n",
    "    # Find the best result\n",
    "    best_result = min(results, key=lambda x: x['best_mape'])\n",
    "    \n",
    "    # Extract the model name from the pipeline\n",
    "    model_name = model.regressor.steps[-1][1].__class__.__name__\n",
    "\n",
    "    # Determine CV type for the filename\n",
    "    cv_type = \"GPU_CV\" if use_gpu_cv else \"Random_CV\"\n",
    "\n",
    "    # Ensure the output folder exists\n",
    "    os.makedirs(output_folder, exist_ok=True)\n",
    "\n",
    "    # Construct the base filename\n",
    "    base_filename = f\"{model_name}_{cv_type}_results\"\n",
    "    output_path = os.path.join(output_folder, f\"{base_filename}.json\")\n",
    "\n",
    "    # If a file with the same name exists, append a number\n",
    "    counter = 1\n",
    "    while os.path.exists(output_path):\n",
    "        output_path = os.path.join(output_folder, f\"{base_filename}_{counter}.json\")\n",
    "        counter += 1\n",
    "\n",
    "    # Include best result in the JSON data\n",
    "    output_data = {\n",
    "        \"all_results\": results,\n",
    "        \"best_result\": best_result\n",
    "    }\n",
    "\n",
    "    # Write results to a JSON file\n",
    "    with open(output_path, 'w') as json_file:\n",
    "        json.dump(output_data, json_file, indent=4, default=str)  # Use default=str for non-serializable data\n",
    "\n",
    "    print(f\"Results saved to {output_path}\")\n",
    "    \n",
    "    return best_result,results\n"
   ]
  },
  {
   "cell_type": "markdown",
   "metadata": {},
   "source": [
    "## Error Tests"
   ]
  },
  {
   "cell_type": "code",
   "execution_count": 7,
   "metadata": {},
   "outputs": [
    {
     "data": {
      "text/html": [
       "<div>\n",
       "<style scoped>\n",
       "    .dataframe tbody tr th:only-of-type {\n",
       "        vertical-align: middle;\n",
       "    }\n",
       "\n",
       "    .dataframe tbody tr th {\n",
       "        vertical-align: top;\n",
       "    }\n",
       "\n",
       "    .dataframe thead th {\n",
       "        text-align: right;\n",
       "    }\n",
       "</style>\n",
       "<table border=\"1\" class=\"dataframe\">\n",
       "  <thead>\n",
       "    <tr style=\"text-align: right;\">\n",
       "      <th></th>\n",
       "      <th>N</th>\n",
       "      <th>theta</th>\n",
       "      <th>dt</th>\n",
       "      <th>I</th>\n",
       "      <th>accumulated_error</th>\n",
       "    </tr>\n",
       "  </thead>\n",
       "  <tbody>\n",
       "    <tr>\n",
       "      <th>0</th>\n",
       "      <td>100</td>\n",
       "      <td>0.2</td>\n",
       "      <td>0.000063</td>\n",
       "      <td>1</td>\n",
       "      <td>0.000000e+00</td>\n",
       "    </tr>\n",
       "    <tr>\n",
       "      <th>1</th>\n",
       "      <td>100</td>\n",
       "      <td>0.2</td>\n",
       "      <td>0.000063</td>\n",
       "      <td>2</td>\n",
       "      <td>-1.516100e-08</td>\n",
       "    </tr>\n",
       "    <tr>\n",
       "      <th>2</th>\n",
       "      <td>100</td>\n",
       "      <td>0.2</td>\n",
       "      <td>0.000063</td>\n",
       "      <td>3</td>\n",
       "      <td>-3.707700e-08</td>\n",
       "    </tr>\n",
       "    <tr>\n",
       "      <th>3</th>\n",
       "      <td>100</td>\n",
       "      <td>0.2</td>\n",
       "      <td>0.000063</td>\n",
       "      <td>4</td>\n",
       "      <td>-6.877790e-08</td>\n",
       "    </tr>\n",
       "    <tr>\n",
       "      <th>4</th>\n",
       "      <td>100</td>\n",
       "      <td>0.2</td>\n",
       "      <td>0.000063</td>\n",
       "      <td>5</td>\n",
       "      <td>-8.903680e-08</td>\n",
       "    </tr>\n",
       "    <tr>\n",
       "      <th>...</th>\n",
       "      <td>...</td>\n",
       "      <td>...</td>\n",
       "      <td>...</td>\n",
       "      <td>...</td>\n",
       "      <td>...</td>\n",
       "    </tr>\n",
       "    <tr>\n",
       "      <th>1000095</th>\n",
       "      <td>1000000</td>\n",
       "      <td>0.8</td>\n",
       "      <td>6.250000</td>\n",
       "      <td>9997</td>\n",
       "      <td>-1.413211e+05</td>\n",
       "    </tr>\n",
       "    <tr>\n",
       "      <th>1000096</th>\n",
       "      <td>1000000</td>\n",
       "      <td>0.8</td>\n",
       "      <td>6.250000</td>\n",
       "      <td>9998</td>\n",
       "      <td>-1.413352e+05</td>\n",
       "    </tr>\n",
       "    <tr>\n",
       "      <th>1000097</th>\n",
       "      <td>1000000</td>\n",
       "      <td>0.8</td>\n",
       "      <td>6.250000</td>\n",
       "      <td>9999</td>\n",
       "      <td>-1.413493e+05</td>\n",
       "    </tr>\n",
       "    <tr>\n",
       "      <th>1000098</th>\n",
       "      <td>1000000</td>\n",
       "      <td>0.8</td>\n",
       "      <td>6.250000</td>\n",
       "      <td>10000</td>\n",
       "      <td>-1.413635e+05</td>\n",
       "    </tr>\n",
       "    <tr>\n",
       "      <th>1000099</th>\n",
       "      <td>1000000</td>\n",
       "      <td>0.8</td>\n",
       "      <td>6.250000</td>\n",
       "      <td>10001</td>\n",
       "      <td>-1.413776e+05</td>\n",
       "    </tr>\n",
       "  </tbody>\n",
       "</table>\n",
       "<p>1000100 rows × 5 columns</p>\n",
       "</div>"
      ],
      "text/plain": [
       "               N  theta        dt      I  accumulated_error\n",
       "0            100    0.2  0.000063      1       0.000000e+00\n",
       "1            100    0.2  0.000063      2      -1.516100e-08\n",
       "2            100    0.2  0.000063      3      -3.707700e-08\n",
       "3            100    0.2  0.000063      4      -6.877790e-08\n",
       "4            100    0.2  0.000063      5      -8.903680e-08\n",
       "...          ...    ...       ...    ...                ...\n",
       "1000095  1000000    0.8  6.250000   9997      -1.413211e+05\n",
       "1000096  1000000    0.8  6.250000   9998      -1.413352e+05\n",
       "1000097  1000000    0.8  6.250000   9999      -1.413493e+05\n",
       "1000098  1000000    0.8  6.250000  10000      -1.413635e+05\n",
       "1000099  1000000    0.8  6.250000  10001      -1.413776e+05\n",
       "\n",
       "[1000100 rows x 5 columns]"
      ]
     },
     "execution_count": 7,
     "metadata": {},
     "output_type": "execute_result"
    }
   ],
   "source": [
    "full_err_df"
   ]
  },
  {
   "cell_type": "code",
   "execution_count": 19,
   "metadata": {},
   "outputs": [
    {
     "name": "stdout",
     "output_type": "stream",
     "text": [
      "Mean Absolute Error: 12998.901802\n"
     ]
    },
    {
     "ename": "ValueError",
     "evalue": "The feature names should match those that were passed during fit.\nFeature names unseen at fit time:\n- dt\n- theta\n",
     "output_type": "error",
     "traceback": [
      "\u001b[0;31m---------------------------------------------------------------------------\u001b[0m",
      "\u001b[0;31mValueError\u001b[0m                                Traceback (most recent call last)",
      "Cell \u001b[0;32mIn[19], line 33\u001b[0m\n\u001b[1;32m     31\u001b[0m \u001b[38;5;66;03m# Example Prediction for an arbitrary input\u001b[39;00m\n\u001b[1;32m     32\u001b[0m example_input \u001b[38;5;241m=\u001b[39m {\u001b[38;5;124m'\u001b[39m\u001b[38;5;124mN\u001b[39m\u001b[38;5;124m'\u001b[39m: \u001b[38;5;241m100\u001b[39m, \u001b[38;5;124m'\u001b[39m\u001b[38;5;124mtheta\u001b[39m\u001b[38;5;124m'\u001b[39m: \u001b[38;5;241m0.2\u001b[39m, \u001b[38;5;124m'\u001b[39m\u001b[38;5;124mdt\u001b[39m\u001b[38;5;124m'\u001b[39m: \u001b[38;5;241m6.25e-05\u001b[39m, \u001b[38;5;124m'\u001b[39m\u001b[38;5;124mI\u001b[39m\u001b[38;5;124m'\u001b[39m: \u001b[38;5;241m5000\u001b[39m}\n\u001b[0;32m---> 33\u001b[0m example_scaled \u001b[38;5;241m=\u001b[39m \u001b[43mscaler\u001b[49m\u001b[38;5;241;43m.\u001b[39;49m\u001b[43mtransform\u001b[49m\u001b[43m(\u001b[49m\u001b[43mpd\u001b[49m\u001b[38;5;241;43m.\u001b[39;49m\u001b[43mDataFrame\u001b[49m\u001b[43m(\u001b[49m\u001b[43m[\u001b[49m\u001b[43mexample_input\u001b[49m\u001b[43m]\u001b[49m\u001b[43m)\u001b[49m\u001b[43m)\u001b[49m\n\u001b[1;32m     34\u001b[0m predicted_error \u001b[38;5;241m=\u001b[39m model\u001b[38;5;241m.\u001b[39mpredict(example_scaled)\n\u001b[1;32m     35\u001b[0m \u001b[38;5;28mprint\u001b[39m(\u001b[38;5;124mf\u001b[39m\u001b[38;5;124m\"\u001b[39m\u001b[38;5;124mPredicted Accumulated Energy Error: \u001b[39m\u001b[38;5;132;01m{\u001b[39;00mpredicted_error[\u001b[38;5;241m0\u001b[39m]\u001b[38;5;132;01m:\u001b[39;00m\u001b[38;5;124m.6f\u001b[39m\u001b[38;5;132;01m}\u001b[39;00m\u001b[38;5;124m\"\u001b[39m)\n",
      "File \u001b[0;32m~/.local/lib/python3.10/site-packages/sklearn/utils/_set_output.py:316\u001b[0m, in \u001b[0;36m_wrap_method_output.<locals>.wrapped\u001b[0;34m(self, X, *args, **kwargs)\u001b[0m\n\u001b[1;32m    314\u001b[0m \u001b[38;5;129m@wraps\u001b[39m(f)\n\u001b[1;32m    315\u001b[0m \u001b[38;5;28;01mdef\u001b[39;00m \u001b[38;5;21mwrapped\u001b[39m(\u001b[38;5;28mself\u001b[39m, X, \u001b[38;5;241m*\u001b[39margs, \u001b[38;5;241m*\u001b[39m\u001b[38;5;241m*\u001b[39mkwargs):\n\u001b[0;32m--> 316\u001b[0m     data_to_wrap \u001b[38;5;241m=\u001b[39m \u001b[43mf\u001b[49m\u001b[43m(\u001b[49m\u001b[38;5;28;43mself\u001b[39;49m\u001b[43m,\u001b[49m\u001b[43m \u001b[49m\u001b[43mX\u001b[49m\u001b[43m,\u001b[49m\u001b[43m \u001b[49m\u001b[38;5;241;43m*\u001b[39;49m\u001b[43margs\u001b[49m\u001b[43m,\u001b[49m\u001b[43m \u001b[49m\u001b[38;5;241;43m*\u001b[39;49m\u001b[38;5;241;43m*\u001b[39;49m\u001b[43mkwargs\u001b[49m\u001b[43m)\u001b[49m\n\u001b[1;32m    317\u001b[0m     \u001b[38;5;28;01mif\u001b[39;00m \u001b[38;5;28misinstance\u001b[39m(data_to_wrap, \u001b[38;5;28mtuple\u001b[39m):\n\u001b[1;32m    318\u001b[0m         \u001b[38;5;66;03m# only wrap the first output for cross decomposition\u001b[39;00m\n\u001b[1;32m    319\u001b[0m         return_tuple \u001b[38;5;241m=\u001b[39m (\n\u001b[1;32m    320\u001b[0m             _wrap_data_with_container(method, data_to_wrap[\u001b[38;5;241m0\u001b[39m], X, \u001b[38;5;28mself\u001b[39m),\n\u001b[1;32m    321\u001b[0m             \u001b[38;5;241m*\u001b[39mdata_to_wrap[\u001b[38;5;241m1\u001b[39m:],\n\u001b[1;32m    322\u001b[0m         )\n",
      "File \u001b[0;32m~/.local/lib/python3.10/site-packages/sklearn/preprocessing/_data.py:1045\u001b[0m, in \u001b[0;36mStandardScaler.transform\u001b[0;34m(self, X, copy)\u001b[0m\n\u001b[1;32m   1042\u001b[0m check_is_fitted(\u001b[38;5;28mself\u001b[39m)\n\u001b[1;32m   1044\u001b[0m copy \u001b[38;5;241m=\u001b[39m copy \u001b[38;5;28;01mif\u001b[39;00m copy \u001b[38;5;129;01mis\u001b[39;00m \u001b[38;5;129;01mnot\u001b[39;00m \u001b[38;5;28;01mNone\u001b[39;00m \u001b[38;5;28;01melse\u001b[39;00m \u001b[38;5;28mself\u001b[39m\u001b[38;5;241m.\u001b[39mcopy\n\u001b[0;32m-> 1045\u001b[0m X \u001b[38;5;241m=\u001b[39m \u001b[38;5;28;43mself\u001b[39;49m\u001b[38;5;241;43m.\u001b[39;49m\u001b[43m_validate_data\u001b[49m\u001b[43m(\u001b[49m\n\u001b[1;32m   1046\u001b[0m \u001b[43m    \u001b[49m\u001b[43mX\u001b[49m\u001b[43m,\u001b[49m\n\u001b[1;32m   1047\u001b[0m \u001b[43m    \u001b[49m\u001b[43mreset\u001b[49m\u001b[38;5;241;43m=\u001b[39;49m\u001b[38;5;28;43;01mFalse\u001b[39;49;00m\u001b[43m,\u001b[49m\n\u001b[1;32m   1048\u001b[0m \u001b[43m    \u001b[49m\u001b[43maccept_sparse\u001b[49m\u001b[38;5;241;43m=\u001b[39;49m\u001b[38;5;124;43m\"\u001b[39;49m\u001b[38;5;124;43mcsr\u001b[39;49m\u001b[38;5;124;43m\"\u001b[39;49m\u001b[43m,\u001b[49m\n\u001b[1;32m   1049\u001b[0m \u001b[43m    \u001b[49m\u001b[43mcopy\u001b[49m\u001b[38;5;241;43m=\u001b[39;49m\u001b[43mcopy\u001b[49m\u001b[43m,\u001b[49m\n\u001b[1;32m   1050\u001b[0m \u001b[43m    \u001b[49m\u001b[43mdtype\u001b[49m\u001b[38;5;241;43m=\u001b[39;49m\u001b[43mFLOAT_DTYPES\u001b[49m\u001b[43m,\u001b[49m\n\u001b[1;32m   1051\u001b[0m \u001b[43m    \u001b[49m\u001b[43mforce_writeable\u001b[49m\u001b[38;5;241;43m=\u001b[39;49m\u001b[38;5;28;43;01mTrue\u001b[39;49;00m\u001b[43m,\u001b[49m\n\u001b[1;32m   1052\u001b[0m \u001b[43m    \u001b[49m\u001b[43mforce_all_finite\u001b[49m\u001b[38;5;241;43m=\u001b[39;49m\u001b[38;5;124;43m\"\u001b[39;49m\u001b[38;5;124;43mallow-nan\u001b[39;49m\u001b[38;5;124;43m\"\u001b[39;49m\u001b[43m,\u001b[49m\n\u001b[1;32m   1053\u001b[0m \u001b[43m\u001b[49m\u001b[43m)\u001b[49m\n\u001b[1;32m   1055\u001b[0m \u001b[38;5;28;01mif\u001b[39;00m sparse\u001b[38;5;241m.\u001b[39missparse(X):\n\u001b[1;32m   1056\u001b[0m     \u001b[38;5;28;01mif\u001b[39;00m \u001b[38;5;28mself\u001b[39m\u001b[38;5;241m.\u001b[39mwith_mean:\n",
      "File \u001b[0;32m~/.local/lib/python3.10/site-packages/sklearn/base.py:608\u001b[0m, in \u001b[0;36mBaseEstimator._validate_data\u001b[0;34m(self, X, y, reset, validate_separately, cast_to_ndarray, **check_params)\u001b[0m\n\u001b[1;32m    537\u001b[0m \u001b[38;5;28;01mdef\u001b[39;00m \u001b[38;5;21m_validate_data\u001b[39m(\n\u001b[1;32m    538\u001b[0m     \u001b[38;5;28mself\u001b[39m,\n\u001b[1;32m    539\u001b[0m     X\u001b[38;5;241m=\u001b[39m\u001b[38;5;124m\"\u001b[39m\u001b[38;5;124mno_validation\u001b[39m\u001b[38;5;124m\"\u001b[39m,\n\u001b[0;32m   (...)\u001b[0m\n\u001b[1;32m    544\u001b[0m     \u001b[38;5;241m*\u001b[39m\u001b[38;5;241m*\u001b[39mcheck_params,\n\u001b[1;32m    545\u001b[0m ):\n\u001b[1;32m    546\u001b[0m \u001b[38;5;250m    \u001b[39m\u001b[38;5;124;03m\"\"\"Validate input data and set or check the `n_features_in_` attribute.\u001b[39;00m\n\u001b[1;32m    547\u001b[0m \n\u001b[1;32m    548\u001b[0m \u001b[38;5;124;03m    Parameters\u001b[39;00m\n\u001b[0;32m   (...)\u001b[0m\n\u001b[1;32m    606\u001b[0m \u001b[38;5;124;03m        validated.\u001b[39;00m\n\u001b[1;32m    607\u001b[0m \u001b[38;5;124;03m    \"\"\"\u001b[39;00m\n\u001b[0;32m--> 608\u001b[0m     \u001b[38;5;28;43mself\u001b[39;49m\u001b[38;5;241;43m.\u001b[39;49m\u001b[43m_check_feature_names\u001b[49m\u001b[43m(\u001b[49m\u001b[43mX\u001b[49m\u001b[43m,\u001b[49m\u001b[43m \u001b[49m\u001b[43mreset\u001b[49m\u001b[38;5;241;43m=\u001b[39;49m\u001b[43mreset\u001b[49m\u001b[43m)\u001b[49m\n\u001b[1;32m    610\u001b[0m     \u001b[38;5;28;01mif\u001b[39;00m y \u001b[38;5;129;01mis\u001b[39;00m \u001b[38;5;28;01mNone\u001b[39;00m \u001b[38;5;129;01mand\u001b[39;00m \u001b[38;5;28mself\u001b[39m\u001b[38;5;241m.\u001b[39m_get_tags()[\u001b[38;5;124m\"\u001b[39m\u001b[38;5;124mrequires_y\u001b[39m\u001b[38;5;124m\"\u001b[39m]:\n\u001b[1;32m    611\u001b[0m         \u001b[38;5;28;01mraise\u001b[39;00m \u001b[38;5;167;01mValueError\u001b[39;00m(\n\u001b[1;32m    612\u001b[0m             \u001b[38;5;124mf\u001b[39m\u001b[38;5;124m\"\u001b[39m\u001b[38;5;124mThis \u001b[39m\u001b[38;5;132;01m{\u001b[39;00m\u001b[38;5;28mself\u001b[39m\u001b[38;5;241m.\u001b[39m\u001b[38;5;18m__class__\u001b[39m\u001b[38;5;241m.\u001b[39m\u001b[38;5;18m__name__\u001b[39m\u001b[38;5;132;01m}\u001b[39;00m\u001b[38;5;124m estimator \u001b[39m\u001b[38;5;124m\"\u001b[39m\n\u001b[1;32m    613\u001b[0m             \u001b[38;5;124m\"\u001b[39m\u001b[38;5;124mrequires y to be passed, but the target y is None.\u001b[39m\u001b[38;5;124m\"\u001b[39m\n\u001b[1;32m    614\u001b[0m         )\n",
      "File \u001b[0;32m~/.local/lib/python3.10/site-packages/sklearn/base.py:535\u001b[0m, in \u001b[0;36mBaseEstimator._check_feature_names\u001b[0;34m(self, X, reset)\u001b[0m\n\u001b[1;32m    530\u001b[0m \u001b[38;5;28;01mif\u001b[39;00m \u001b[38;5;129;01mnot\u001b[39;00m missing_names \u001b[38;5;129;01mand\u001b[39;00m \u001b[38;5;129;01mnot\u001b[39;00m unexpected_names:\n\u001b[1;32m    531\u001b[0m     message \u001b[38;5;241m+\u001b[39m\u001b[38;5;241m=\u001b[39m (\n\u001b[1;32m    532\u001b[0m         \u001b[38;5;124m\"\u001b[39m\u001b[38;5;124mFeature names must be in the same order as they were in fit.\u001b[39m\u001b[38;5;130;01m\\n\u001b[39;00m\u001b[38;5;124m\"\u001b[39m\n\u001b[1;32m    533\u001b[0m     )\n\u001b[0;32m--> 535\u001b[0m \u001b[38;5;28;01mraise\u001b[39;00m \u001b[38;5;167;01mValueError\u001b[39;00m(message)\n",
      "\u001b[0;31mValueError\u001b[0m: The feature names should match those that were passed during fit.\nFeature names unseen at fit time:\n- dt\n- theta\n"
     ]
    }
   ],
   "source": [
    "from sklearn.model_selection import train_test_split\n",
    "from sklearn.preprocessing import StandardScaler, PolynomialFeatures, FunctionTransformer\n",
    "from sklearn.ensemble import RandomForestRegressor\n",
    "from sklearn.metrics import mean_absolute_error\n",
    "from sklearn.linear_model import HuberRegressor\n",
    "\n",
    "# Features and target\n",
    "X = full_err_df[['N', 'theta', 'dt', 'I']]\n",
    "y = full_err_df['accumulated_error']\n",
    "\n",
    "# Train-test split\n",
    "X_train, X_test, y_train, y_test = train_test_split(X, y, test_size=0.2, random_state=42)\n",
    "\n",
    "# Preprocessing: Feature scaling\n",
    "scaler = StandardScaler()\n",
    "X_train_scaled = scaler.fit_transform(X_train)\n",
    "X_test_scaled = scaler.transform(X_test)\n",
    "\n",
    "# Model: Random Forest Regressor\n",
    "# model = RandomForestRegressor(n_estimators=100, random_state=42)\n",
    "model = HuberRegressor()\n",
    "model.fit(X_train_scaled, y_train)\n",
    "\n",
    "# Predictions\n",
    "y_pred = model.predict(X_test_scaled)\n",
    "\n",
    "# Evaluate the model\n",
    "mae = mean_absolute_error(y_test, y_pred)\n",
    "print(f\"Mean Absolute Error: {mae:.6f}\")\n",
    "\n",
    "# Example Prediction for an arbitrary input\n",
    "example_input = {'N': 100, 'theta': 0.2, 'dt': 6.25e-05, 'I': 5000}\n",
    "example_scaled = scaler.transform(pd.DataFrame([example_input]))\n",
    "predicted_error = model.predict(example_scaled)\n",
    "print(f\"Predicted Accumulated Energy Error: {predicted_error[0]:.6f}\")"
   ]
  },
  {
   "cell_type": "code",
   "execution_count": 237,
   "metadata": {},
   "outputs": [
    {
     "name": "stdout",
     "output_type": "stream",
     "text": [
      "Testing 1 feature subset(s)...\n"
     ]
    },
    {
     "data": {
      "application/vnd.jupyter.widget-view+json": {
       "model_id": "fe9dec3bd10543799acbd5d200349b1a",
       "version_major": 2,
       "version_minor": 0
      },
      "text/plain": [
       "Progress:   0%|          | 0/1 [00:00<?, ?subset/s]"
      ]
     },
     "metadata": {},
     "output_type": "display_data"
    },
    {
     "data": {
      "application/vnd.jupyter.widget-view+json": {
       "model_id": "605503a41bbf418fa70f2a0365b56c07",
       "version_major": 2,
       "version_minor": 0
      },
      "text/plain": [
       "Custom Text:   0%|          | 0/1 [00:00<?, ?update/s]"
      ]
     },
     "metadata": {},
     "output_type": "display_data"
    },
    {
     "ename": "KeyboardInterrupt",
     "evalue": "",
     "output_type": "error",
     "traceback": [
      "\u001b[0;31m---------------------------------------------------------------------------\u001b[0m",
      "\u001b[0;31mKeyboardInterrupt\u001b[0m                         Traceback (most recent call last)",
      "Cell \u001b[0;32mIn[237], line 26\u001b[0m\n\u001b[1;32m     20\u001b[0m model_params \u001b[38;5;241m=\u001b[39m {\n\u001b[1;32m     21\u001b[0m     \u001b[38;5;124m'\u001b[39m\u001b[38;5;124mregressor__model__epsilon\u001b[39m\u001b[38;5;124m'\u001b[39m: [\u001b[38;5;241m1.35\u001b[39m, \u001b[38;5;241m1.5\u001b[39m, \u001b[38;5;241m1.75\u001b[39m],\n\u001b[1;32m     22\u001b[0m     \u001b[38;5;124m'\u001b[39m\u001b[38;5;124mregressor__model__alpha\u001b[39m\u001b[38;5;124m'\u001b[39m: [\u001b[38;5;241m0.0001\u001b[39m, \u001b[38;5;241m0.001\u001b[39m, \u001b[38;5;241m0.01\u001b[39m],\n\u001b[1;32m     23\u001b[0m }\n\u001b[1;32m     25\u001b[0m \u001b[38;5;66;03m# Run feature subset evaluation using Random CV\u001b[39;00m\n\u001b[0;32m---> 26\u001b[0m best_result_hr, res_hr \u001b[38;5;241m=\u001b[39m \u001b[43mrun_feature_subset_cv\u001b[49m\u001b[43m(\u001b[49m\n\u001b[1;32m     27\u001b[0m \u001b[43m    \u001b[49m\u001b[43mf_full\u001b[49m\u001b[38;5;241;43m=\u001b[39;49m\u001b[43mfull_err_df\u001b[49m\u001b[43m,\u001b[49m\n\u001b[1;32m     28\u001b[0m \u001b[43m    \u001b[49m\u001b[43minput_features\u001b[49m\u001b[38;5;241;43m=\u001b[39;49m\u001b[43minput_features\u001b[49m\u001b[43m,\u001b[49m\n\u001b[1;32m     29\u001b[0m \u001b[43m    \u001b[49m\u001b[43mtarget_feature\u001b[49m\u001b[38;5;241;43m=\u001b[39;49m\u001b[43mtarget_feature\u001b[49m\u001b[43m,\u001b[49m\n\u001b[1;32m     30\u001b[0m \u001b[43m    \u001b[49m\u001b[43mmodel\u001b[49m\u001b[38;5;241;43m=\u001b[39;49m\u001b[43mmodel\u001b[49m\u001b[43m,\u001b[49m\n\u001b[1;32m     31\u001b[0m \u001b[43m    \u001b[49m\u001b[43mmodel_params\u001b[49m\u001b[38;5;241;43m=\u001b[39;49m\u001b[43mmodel_params\u001b[49m\u001b[43m,\u001b[49m\n\u001b[1;32m     32\u001b[0m \u001b[43m    \u001b[49m\u001b[43muse_feature_subsets\u001b[49m\u001b[38;5;241;43m=\u001b[39;49m\u001b[38;5;28;43;01mFalse\u001b[39;49;00m\u001b[43m,\u001b[49m\n\u001b[1;32m     33\u001b[0m \u001b[43m    \u001b[49m\u001b[43muse_gpu_cv\u001b[49m\u001b[38;5;241;43m=\u001b[39;49m\u001b[38;5;28;43;01mFalse\u001b[39;49;00m\u001b[43m  \u001b[49m\u001b[38;5;66;43;03m# Set to False to use regular KFold\u001b[39;49;00m\n\u001b[1;32m     34\u001b[0m \u001b[43m)\u001b[49m\n\u001b[1;32m     36\u001b[0m \u001b[38;5;66;03m# Display the best result\u001b[39;00m\n\u001b[1;32m     37\u001b[0m \u001b[38;5;28mprint\u001b[39m(\u001b[38;5;124m\"\u001b[39m\u001b[38;5;124mBest feature subset:\u001b[39m\u001b[38;5;124m\"\u001b[39m, best_result_hr[\u001b[38;5;124m'\u001b[39m\u001b[38;5;124mfeatures\u001b[39m\u001b[38;5;124m'\u001b[39m])\n",
      "Cell \u001b[0;32mIn[205], line 67\u001b[0m, in \u001b[0;36mrun_feature_subset_cv\u001b[0;34m(f_full, input_features, target_feature, model, model_params, extra_features, use_gpu_cv, use_feature_subsets, output_folder)\u001b[0m\n\u001b[1;32m     56\u001b[0m grid_search \u001b[38;5;241m=\u001b[39m GridSearchCV(\n\u001b[1;32m     57\u001b[0m     estimator\u001b[38;5;241m=\u001b[39mmodel,\n\u001b[1;32m     58\u001b[0m     param_grid\u001b[38;5;241m=\u001b[39mmodel_params,\n\u001b[0;32m   (...)\u001b[0m\n\u001b[1;32m     63\u001b[0m     n_jobs\u001b[38;5;241m=\u001b[39m\u001b[38;5;241m-\u001b[39m\u001b[38;5;241m1\u001b[39m  \u001b[38;5;66;03m# Use all available cores\u001b[39;00m\n\u001b[1;32m     64\u001b[0m )\n\u001b[1;32m     66\u001b[0m \u001b[38;5;66;03m# Fit GridSearchCV\u001b[39;00m\n\u001b[0;32m---> 67\u001b[0m \u001b[43mgrid_search\u001b[49m\u001b[38;5;241;43m.\u001b[39;49m\u001b[43mfit\u001b[49m\u001b[43m(\u001b[49m\u001b[43mX\u001b[49m\u001b[43m,\u001b[49m\u001b[43m \u001b[49m\u001b[43my\u001b[49m\u001b[43m)\u001b[49m\n\u001b[1;32m     69\u001b[0m \u001b[38;5;66;03m# Append results\u001b[39;00m\n\u001b[1;32m     70\u001b[0m results\u001b[38;5;241m.\u001b[39mappend({\n\u001b[1;32m     71\u001b[0m     \u001b[38;5;124m'\u001b[39m\u001b[38;5;124mfeatures\u001b[39m\u001b[38;5;124m'\u001b[39m: \u001b[38;5;28mlist\u001b[39m(features)\u001b[38;5;241m+\u001b[39mextra_features,\n\u001b[1;32m     72\u001b[0m     \u001b[38;5;124m'\u001b[39m\u001b[38;5;124mbest_params\u001b[39m\u001b[38;5;124m'\u001b[39m: grid_search\u001b[38;5;241m.\u001b[39mbest_params_,\n\u001b[1;32m     73\u001b[0m     \u001b[38;5;124m'\u001b[39m\u001b[38;5;124mbest_mae\u001b[39m\u001b[38;5;124m'\u001b[39m: \u001b[38;5;241m-\u001b[39mgrid_search\u001b[38;5;241m.\u001b[39mcv_results_[\u001b[38;5;124m'\u001b[39m\u001b[38;5;124mmean_test_MAE\u001b[39m\u001b[38;5;124m'\u001b[39m][grid_search\u001b[38;5;241m.\u001b[39mbest_index_],\n\u001b[1;32m     74\u001b[0m     \u001b[38;5;124m'\u001b[39m\u001b[38;5;124mbest_mape\u001b[39m\u001b[38;5;124m'\u001b[39m: \u001b[38;5;241m-\u001b[39mgrid_search\u001b[38;5;241m.\u001b[39mbest_score_\n\u001b[1;32m     75\u001b[0m })\n",
      "File \u001b[0;32m~/.local/lib/python3.10/site-packages/sklearn/base.py:1473\u001b[0m, in \u001b[0;36m_fit_context.<locals>.decorator.<locals>.wrapper\u001b[0;34m(estimator, *args, **kwargs)\u001b[0m\n\u001b[1;32m   1466\u001b[0m     estimator\u001b[38;5;241m.\u001b[39m_validate_params()\n\u001b[1;32m   1468\u001b[0m \u001b[38;5;28;01mwith\u001b[39;00m config_context(\n\u001b[1;32m   1469\u001b[0m     skip_parameter_validation\u001b[38;5;241m=\u001b[39m(\n\u001b[1;32m   1470\u001b[0m         prefer_skip_nested_validation \u001b[38;5;129;01mor\u001b[39;00m global_skip_validation\n\u001b[1;32m   1471\u001b[0m     )\n\u001b[1;32m   1472\u001b[0m ):\n\u001b[0;32m-> 1473\u001b[0m     \u001b[38;5;28;01mreturn\u001b[39;00m \u001b[43mfit_method\u001b[49m\u001b[43m(\u001b[49m\u001b[43mestimator\u001b[49m\u001b[43m,\u001b[49m\u001b[43m \u001b[49m\u001b[38;5;241;43m*\u001b[39;49m\u001b[43margs\u001b[49m\u001b[43m,\u001b[49m\u001b[43m \u001b[49m\u001b[38;5;241;43m*\u001b[39;49m\u001b[38;5;241;43m*\u001b[39;49m\u001b[43mkwargs\u001b[49m\u001b[43m)\u001b[49m\n",
      "File \u001b[0;32m~/.local/lib/python3.10/site-packages/sklearn/model_selection/_search.py:1019\u001b[0m, in \u001b[0;36mBaseSearchCV.fit\u001b[0;34m(self, X, y, **params)\u001b[0m\n\u001b[1;32m   1013\u001b[0m     results \u001b[38;5;241m=\u001b[39m \u001b[38;5;28mself\u001b[39m\u001b[38;5;241m.\u001b[39m_format_results(\n\u001b[1;32m   1014\u001b[0m         all_candidate_params, n_splits, all_out, all_more_results\n\u001b[1;32m   1015\u001b[0m     )\n\u001b[1;32m   1017\u001b[0m     \u001b[38;5;28;01mreturn\u001b[39;00m results\n\u001b[0;32m-> 1019\u001b[0m \u001b[38;5;28;43mself\u001b[39;49m\u001b[38;5;241;43m.\u001b[39;49m\u001b[43m_run_search\u001b[49m\u001b[43m(\u001b[49m\u001b[43mevaluate_candidates\u001b[49m\u001b[43m)\u001b[49m\n\u001b[1;32m   1021\u001b[0m \u001b[38;5;66;03m# multimetric is determined here because in the case of a callable\u001b[39;00m\n\u001b[1;32m   1022\u001b[0m \u001b[38;5;66;03m# self.scoring the return type is only known after calling\u001b[39;00m\n\u001b[1;32m   1023\u001b[0m first_test_score \u001b[38;5;241m=\u001b[39m all_out[\u001b[38;5;241m0\u001b[39m][\u001b[38;5;124m\"\u001b[39m\u001b[38;5;124mtest_scores\u001b[39m\u001b[38;5;124m\"\u001b[39m]\n",
      "File \u001b[0;32m~/.local/lib/python3.10/site-packages/sklearn/model_selection/_search.py:1573\u001b[0m, in \u001b[0;36mGridSearchCV._run_search\u001b[0;34m(self, evaluate_candidates)\u001b[0m\n\u001b[1;32m   1571\u001b[0m \u001b[38;5;28;01mdef\u001b[39;00m \u001b[38;5;21m_run_search\u001b[39m(\u001b[38;5;28mself\u001b[39m, evaluate_candidates):\n\u001b[1;32m   1572\u001b[0m \u001b[38;5;250m    \u001b[39m\u001b[38;5;124;03m\"\"\"Search all candidates in param_grid\"\"\"\u001b[39;00m\n\u001b[0;32m-> 1573\u001b[0m     \u001b[43mevaluate_candidates\u001b[49m\u001b[43m(\u001b[49m\u001b[43mParameterGrid\u001b[49m\u001b[43m(\u001b[49m\u001b[38;5;28;43mself\u001b[39;49m\u001b[38;5;241;43m.\u001b[39;49m\u001b[43mparam_grid\u001b[49m\u001b[43m)\u001b[49m\u001b[43m)\u001b[49m\n",
      "File \u001b[0;32m~/.local/lib/python3.10/site-packages/sklearn/model_selection/_search.py:965\u001b[0m, in \u001b[0;36mBaseSearchCV.fit.<locals>.evaluate_candidates\u001b[0;34m(candidate_params, cv, more_results)\u001b[0m\n\u001b[1;32m    957\u001b[0m \u001b[38;5;28;01mif\u001b[39;00m \u001b[38;5;28mself\u001b[39m\u001b[38;5;241m.\u001b[39mverbose \u001b[38;5;241m>\u001b[39m \u001b[38;5;241m0\u001b[39m:\n\u001b[1;32m    958\u001b[0m     \u001b[38;5;28mprint\u001b[39m(\n\u001b[1;32m    959\u001b[0m         \u001b[38;5;124m\"\u001b[39m\u001b[38;5;124mFitting \u001b[39m\u001b[38;5;132;01m{0}\u001b[39;00m\u001b[38;5;124m folds for each of \u001b[39m\u001b[38;5;132;01m{1}\u001b[39;00m\u001b[38;5;124m candidates,\u001b[39m\u001b[38;5;124m\"\u001b[39m\n\u001b[1;32m    960\u001b[0m         \u001b[38;5;124m\"\u001b[39m\u001b[38;5;124m totalling \u001b[39m\u001b[38;5;132;01m{2}\u001b[39;00m\u001b[38;5;124m fits\u001b[39m\u001b[38;5;124m\"\u001b[39m\u001b[38;5;241m.\u001b[39mformat(\n\u001b[1;32m    961\u001b[0m             n_splits, n_candidates, n_candidates \u001b[38;5;241m*\u001b[39m n_splits\n\u001b[1;32m    962\u001b[0m         )\n\u001b[1;32m    963\u001b[0m     )\n\u001b[0;32m--> 965\u001b[0m out \u001b[38;5;241m=\u001b[39m \u001b[43mparallel\u001b[49m\u001b[43m(\u001b[49m\n\u001b[1;32m    966\u001b[0m \u001b[43m    \u001b[49m\u001b[43mdelayed\u001b[49m\u001b[43m(\u001b[49m\u001b[43m_fit_and_score\u001b[49m\u001b[43m)\u001b[49m\u001b[43m(\u001b[49m\n\u001b[1;32m    967\u001b[0m \u001b[43m        \u001b[49m\u001b[43mclone\u001b[49m\u001b[43m(\u001b[49m\u001b[43mbase_estimator\u001b[49m\u001b[43m)\u001b[49m\u001b[43m,\u001b[49m\n\u001b[1;32m    968\u001b[0m \u001b[43m        \u001b[49m\u001b[43mX\u001b[49m\u001b[43m,\u001b[49m\n\u001b[1;32m    969\u001b[0m \u001b[43m        \u001b[49m\u001b[43my\u001b[49m\u001b[43m,\u001b[49m\n\u001b[1;32m    970\u001b[0m \u001b[43m        \u001b[49m\u001b[43mtrain\u001b[49m\u001b[38;5;241;43m=\u001b[39;49m\u001b[43mtrain\u001b[49m\u001b[43m,\u001b[49m\n\u001b[1;32m    971\u001b[0m \u001b[43m        \u001b[49m\u001b[43mtest\u001b[49m\u001b[38;5;241;43m=\u001b[39;49m\u001b[43mtest\u001b[49m\u001b[43m,\u001b[49m\n\u001b[1;32m    972\u001b[0m \u001b[43m        \u001b[49m\u001b[43mparameters\u001b[49m\u001b[38;5;241;43m=\u001b[39;49m\u001b[43mparameters\u001b[49m\u001b[43m,\u001b[49m\n\u001b[1;32m    973\u001b[0m \u001b[43m        \u001b[49m\u001b[43msplit_progress\u001b[49m\u001b[38;5;241;43m=\u001b[39;49m\u001b[43m(\u001b[49m\u001b[43msplit_idx\u001b[49m\u001b[43m,\u001b[49m\u001b[43m \u001b[49m\u001b[43mn_splits\u001b[49m\u001b[43m)\u001b[49m\u001b[43m,\u001b[49m\n\u001b[1;32m    974\u001b[0m \u001b[43m        \u001b[49m\u001b[43mcandidate_progress\u001b[49m\u001b[38;5;241;43m=\u001b[39;49m\u001b[43m(\u001b[49m\u001b[43mcand_idx\u001b[49m\u001b[43m,\u001b[49m\u001b[43m \u001b[49m\u001b[43mn_candidates\u001b[49m\u001b[43m)\u001b[49m\u001b[43m,\u001b[49m\n\u001b[1;32m    975\u001b[0m \u001b[43m        \u001b[49m\u001b[38;5;241;43m*\u001b[39;49m\u001b[38;5;241;43m*\u001b[39;49m\u001b[43mfit_and_score_kwargs\u001b[49m\u001b[43m,\u001b[49m\n\u001b[1;32m    976\u001b[0m \u001b[43m    \u001b[49m\u001b[43m)\u001b[49m\n\u001b[1;32m    977\u001b[0m \u001b[43m    \u001b[49m\u001b[38;5;28;43;01mfor\u001b[39;49;00m\u001b[43m \u001b[49m\u001b[43m(\u001b[49m\u001b[43mcand_idx\u001b[49m\u001b[43m,\u001b[49m\u001b[43m \u001b[49m\u001b[43mparameters\u001b[49m\u001b[43m)\u001b[49m\u001b[43m,\u001b[49m\u001b[43m \u001b[49m\u001b[43m(\u001b[49m\u001b[43msplit_idx\u001b[49m\u001b[43m,\u001b[49m\u001b[43m \u001b[49m\u001b[43m(\u001b[49m\u001b[43mtrain\u001b[49m\u001b[43m,\u001b[49m\u001b[43m \u001b[49m\u001b[43mtest\u001b[49m\u001b[43m)\u001b[49m\u001b[43m)\u001b[49m\u001b[43m \u001b[49m\u001b[38;5;129;43;01min\u001b[39;49;00m\u001b[43m \u001b[49m\u001b[43mproduct\u001b[49m\u001b[43m(\u001b[49m\n\u001b[1;32m    978\u001b[0m \u001b[43m        \u001b[49m\u001b[38;5;28;43menumerate\u001b[39;49m\u001b[43m(\u001b[49m\u001b[43mcandidate_params\u001b[49m\u001b[43m)\u001b[49m\u001b[43m,\u001b[49m\n\u001b[1;32m    979\u001b[0m \u001b[43m        \u001b[49m\u001b[38;5;28;43menumerate\u001b[39;49m\u001b[43m(\u001b[49m\u001b[43mcv\u001b[49m\u001b[38;5;241;43m.\u001b[39;49m\u001b[43msplit\u001b[49m\u001b[43m(\u001b[49m\u001b[43mX\u001b[49m\u001b[43m,\u001b[49m\u001b[43m \u001b[49m\u001b[43my\u001b[49m\u001b[43m,\u001b[49m\u001b[43m \u001b[49m\u001b[38;5;241;43m*\u001b[39;49m\u001b[38;5;241;43m*\u001b[39;49m\u001b[43mrouted_params\u001b[49m\u001b[38;5;241;43m.\u001b[39;49m\u001b[43msplitter\u001b[49m\u001b[38;5;241;43m.\u001b[39;49m\u001b[43msplit\u001b[49m\u001b[43m)\u001b[49m\u001b[43m)\u001b[49m\u001b[43m,\u001b[49m\n\u001b[1;32m    980\u001b[0m \u001b[43m    \u001b[49m\u001b[43m)\u001b[49m\n\u001b[1;32m    981\u001b[0m \u001b[43m\u001b[49m\u001b[43m)\u001b[49m\n\u001b[1;32m    983\u001b[0m \u001b[38;5;28;01mif\u001b[39;00m \u001b[38;5;28mlen\u001b[39m(out) \u001b[38;5;241m<\u001b[39m \u001b[38;5;241m1\u001b[39m:\n\u001b[1;32m    984\u001b[0m     \u001b[38;5;28;01mraise\u001b[39;00m \u001b[38;5;167;01mValueError\u001b[39;00m(\n\u001b[1;32m    985\u001b[0m         \u001b[38;5;124m\"\u001b[39m\u001b[38;5;124mNo fits were performed. \u001b[39m\u001b[38;5;124m\"\u001b[39m\n\u001b[1;32m    986\u001b[0m         \u001b[38;5;124m\"\u001b[39m\u001b[38;5;124mWas the CV iterator empty? \u001b[39m\u001b[38;5;124m\"\u001b[39m\n\u001b[1;32m    987\u001b[0m         \u001b[38;5;124m\"\u001b[39m\u001b[38;5;124mWere there no candidates?\u001b[39m\u001b[38;5;124m\"\u001b[39m\n\u001b[1;32m    988\u001b[0m     )\n",
      "File \u001b[0;32m~/.local/lib/python3.10/site-packages/sklearn/utils/parallel.py:74\u001b[0m, in \u001b[0;36mParallel.__call__\u001b[0;34m(self, iterable)\u001b[0m\n\u001b[1;32m     69\u001b[0m config \u001b[38;5;241m=\u001b[39m get_config()\n\u001b[1;32m     70\u001b[0m iterable_with_config \u001b[38;5;241m=\u001b[39m (\n\u001b[1;32m     71\u001b[0m     (_with_config(delayed_func, config), args, kwargs)\n\u001b[1;32m     72\u001b[0m     \u001b[38;5;28;01mfor\u001b[39;00m delayed_func, args, kwargs \u001b[38;5;129;01min\u001b[39;00m iterable\n\u001b[1;32m     73\u001b[0m )\n\u001b[0;32m---> 74\u001b[0m \u001b[38;5;28;01mreturn\u001b[39;00m \u001b[38;5;28;43msuper\u001b[39;49m\u001b[43m(\u001b[49m\u001b[43m)\u001b[49m\u001b[38;5;241;43m.\u001b[39;49m\u001b[38;5;21;43m__call__\u001b[39;49m\u001b[43m(\u001b[49m\u001b[43miterable_with_config\u001b[49m\u001b[43m)\u001b[49m\n",
      "File \u001b[0;32m~/.local/lib/python3.10/site-packages/joblib/parallel.py:1098\u001b[0m, in \u001b[0;36mParallel.__call__\u001b[0;34m(self, iterable)\u001b[0m\n\u001b[1;32m   1095\u001b[0m     \u001b[38;5;28mself\u001b[39m\u001b[38;5;241m.\u001b[39m_iterating \u001b[38;5;241m=\u001b[39m \u001b[38;5;28;01mFalse\u001b[39;00m\n\u001b[1;32m   1097\u001b[0m \u001b[38;5;28;01mwith\u001b[39;00m \u001b[38;5;28mself\u001b[39m\u001b[38;5;241m.\u001b[39m_backend\u001b[38;5;241m.\u001b[39mretrieval_context():\n\u001b[0;32m-> 1098\u001b[0m     \u001b[38;5;28;43mself\u001b[39;49m\u001b[38;5;241;43m.\u001b[39;49m\u001b[43mretrieve\u001b[49m\u001b[43m(\u001b[49m\u001b[43m)\u001b[49m\n\u001b[1;32m   1099\u001b[0m \u001b[38;5;66;03m# Make sure that we get a last message telling us we are done\u001b[39;00m\n\u001b[1;32m   1100\u001b[0m elapsed_time \u001b[38;5;241m=\u001b[39m time\u001b[38;5;241m.\u001b[39mtime() \u001b[38;5;241m-\u001b[39m \u001b[38;5;28mself\u001b[39m\u001b[38;5;241m.\u001b[39m_start_time\n",
      "File \u001b[0;32m~/.local/lib/python3.10/site-packages/joblib/parallel.py:975\u001b[0m, in \u001b[0;36mParallel.retrieve\u001b[0;34m(self)\u001b[0m\n\u001b[1;32m    973\u001b[0m \u001b[38;5;28;01mtry\u001b[39;00m:\n\u001b[1;32m    974\u001b[0m     \u001b[38;5;28;01mif\u001b[39;00m \u001b[38;5;28mgetattr\u001b[39m(\u001b[38;5;28mself\u001b[39m\u001b[38;5;241m.\u001b[39m_backend, \u001b[38;5;124m'\u001b[39m\u001b[38;5;124msupports_timeout\u001b[39m\u001b[38;5;124m'\u001b[39m, \u001b[38;5;28;01mFalse\u001b[39;00m):\n\u001b[0;32m--> 975\u001b[0m         \u001b[38;5;28mself\u001b[39m\u001b[38;5;241m.\u001b[39m_output\u001b[38;5;241m.\u001b[39mextend(\u001b[43mjob\u001b[49m\u001b[38;5;241;43m.\u001b[39;49m\u001b[43mget\u001b[49m\u001b[43m(\u001b[49m\u001b[43mtimeout\u001b[49m\u001b[38;5;241;43m=\u001b[39;49m\u001b[38;5;28;43mself\u001b[39;49m\u001b[38;5;241;43m.\u001b[39;49m\u001b[43mtimeout\u001b[49m\u001b[43m)\u001b[49m)\n\u001b[1;32m    976\u001b[0m     \u001b[38;5;28;01melse\u001b[39;00m:\n\u001b[1;32m    977\u001b[0m         \u001b[38;5;28mself\u001b[39m\u001b[38;5;241m.\u001b[39m_output\u001b[38;5;241m.\u001b[39mextend(job\u001b[38;5;241m.\u001b[39mget())\n",
      "File \u001b[0;32m~/.local/lib/python3.10/site-packages/joblib/_parallel_backends.py:567\u001b[0m, in \u001b[0;36mLokyBackend.wrap_future_result\u001b[0;34m(future, timeout)\u001b[0m\n\u001b[1;32m    564\u001b[0m \u001b[38;5;250m\u001b[39m\u001b[38;5;124;03m\"\"\"Wrapper for Future.result to implement the same behaviour as\u001b[39;00m\n\u001b[1;32m    565\u001b[0m \u001b[38;5;124;03mAsyncResults.get from multiprocessing.\"\"\"\u001b[39;00m\n\u001b[1;32m    566\u001b[0m \u001b[38;5;28;01mtry\u001b[39;00m:\n\u001b[0;32m--> 567\u001b[0m     \u001b[38;5;28;01mreturn\u001b[39;00m \u001b[43mfuture\u001b[49m\u001b[38;5;241;43m.\u001b[39;49m\u001b[43mresult\u001b[49m\u001b[43m(\u001b[49m\u001b[43mtimeout\u001b[49m\u001b[38;5;241;43m=\u001b[39;49m\u001b[43mtimeout\u001b[49m\u001b[43m)\u001b[49m\n\u001b[1;32m    568\u001b[0m \u001b[38;5;28;01mexcept\u001b[39;00m CfTimeoutError \u001b[38;5;28;01mas\u001b[39;00m e:\n\u001b[1;32m    569\u001b[0m     \u001b[38;5;28;01mraise\u001b[39;00m \u001b[38;5;167;01mTimeoutError\u001b[39;00m \u001b[38;5;28;01mfrom\u001b[39;00m \u001b[38;5;21;01me\u001b[39;00m\n",
      "File \u001b[0;32m/usr/lib/python3.10/concurrent/futures/_base.py:453\u001b[0m, in \u001b[0;36mFuture.result\u001b[0;34m(self, timeout)\u001b[0m\n\u001b[1;32m    450\u001b[0m \u001b[38;5;28;01melif\u001b[39;00m \u001b[38;5;28mself\u001b[39m\u001b[38;5;241m.\u001b[39m_state \u001b[38;5;241m==\u001b[39m FINISHED:\n\u001b[1;32m    451\u001b[0m     \u001b[38;5;28;01mreturn\u001b[39;00m \u001b[38;5;28mself\u001b[39m\u001b[38;5;241m.\u001b[39m__get_result()\n\u001b[0;32m--> 453\u001b[0m \u001b[38;5;28;43mself\u001b[39;49m\u001b[38;5;241;43m.\u001b[39;49m\u001b[43m_condition\u001b[49m\u001b[38;5;241;43m.\u001b[39;49m\u001b[43mwait\u001b[49m\u001b[43m(\u001b[49m\u001b[43mtimeout\u001b[49m\u001b[43m)\u001b[49m\n\u001b[1;32m    455\u001b[0m \u001b[38;5;28;01mif\u001b[39;00m \u001b[38;5;28mself\u001b[39m\u001b[38;5;241m.\u001b[39m_state \u001b[38;5;129;01min\u001b[39;00m [CANCELLED, CANCELLED_AND_NOTIFIED]:\n\u001b[1;32m    456\u001b[0m     \u001b[38;5;28;01mraise\u001b[39;00m CancelledError()\n",
      "File \u001b[0;32m/usr/lib/python3.10/threading.py:320\u001b[0m, in \u001b[0;36mCondition.wait\u001b[0;34m(self, timeout)\u001b[0m\n\u001b[1;32m    318\u001b[0m \u001b[38;5;28;01mtry\u001b[39;00m:    \u001b[38;5;66;03m# restore state no matter what (e.g., KeyboardInterrupt)\u001b[39;00m\n\u001b[1;32m    319\u001b[0m     \u001b[38;5;28;01mif\u001b[39;00m timeout \u001b[38;5;129;01mis\u001b[39;00m \u001b[38;5;28;01mNone\u001b[39;00m:\n\u001b[0;32m--> 320\u001b[0m         \u001b[43mwaiter\u001b[49m\u001b[38;5;241;43m.\u001b[39;49m\u001b[43macquire\u001b[49m\u001b[43m(\u001b[49m\u001b[43m)\u001b[49m\n\u001b[1;32m    321\u001b[0m         gotit \u001b[38;5;241m=\u001b[39m \u001b[38;5;28;01mTrue\u001b[39;00m\n\u001b[1;32m    322\u001b[0m     \u001b[38;5;28;01melse\u001b[39;00m:\n",
      "\u001b[0;31mKeyboardInterrupt\u001b[0m: "
     ]
    }
   ],
   "source": [
    "from sklearn.linear_model import HuberRegressor\n",
    "\n",
    "# Define dataset and parameters\n",
    "input_features = ['N', 'theta', 'dt', 'I']\n",
    "target_feature = 'accumulated_error'\n",
    "\n",
    "# Define the model pipeline\n",
    "pipeline = Pipeline(steps=[\n",
    "    # ('normalize', QuantileTransformer()),\n",
    "    ('model', HuberRegressor())\n",
    "])\n",
    "\n",
    "# Wrap with TransformedTargetRegressor\n",
    "model = TransformedTargetRegressor(\n",
    "    regressor=pipeline, \n",
    "    transformer=FunctionTransformer(lambda x:x)\n",
    ")\n",
    "\n",
    "# Define hyperparameter grid\n",
    "model_params = {\n",
    "    'regressor__model__epsilon': [1.35, 1.5, 1.75],\n",
    "    'regressor__model__alpha': [0.0001, 0.001, 0.01],\n",
    "}\n",
    "\n",
    "# Run feature subset evaluation using Random CV\n",
    "best_result_hr, res_hr = run_feature_subset_cv(\n",
    "    f_full=full_err_df,\n",
    "    input_features=input_features,\n",
    "    target_feature=target_feature,\n",
    "    model=model,\n",
    "    model_params=model_params,\n",
    "    use_feature_subsets=False,\n",
    "    use_gpu_cv=False  # Set to False to use regular KFold\n",
    ")\n",
    "\n",
    "# Display the best result\n",
    "print(\"Best feature subset:\", best_result_hr['features'])\n",
    "print(\"Best parameters:\", best_result_hr['best_params'])\n",
    "print(\"Best MAE:\", best_result_hr['best_mae'])\n",
    "print(\"Best MAPE:\", best_result_hr['best_mape'])\n",
    "\n",
    "# # Run feature subset evaluation using GPU split CV\n",
    "# best_result_hr, res_hr = run_feature_subset_cv(\n",
    "#     f_full=f_full,\n",
    "#     input_features=input_features,\n",
    "#     target_feature=target_feature,\n",
    "#     model=model,\n",
    "#     model_params=model_params,\n",
    "#     use_feature_subsets=True,\n",
    "#     use_gpu_cv=True  # Set to False to use regular KFold\n",
    "# )\n",
    "\n",
    "# # Display the best result\n",
    "# print(\"Best feature subset:\", best_result_hr['features'])\n",
    "# print(\"Best parameters:\", best_result_hr['best_params'])\n",
    "# print(\"Best MAE:\", best_result_hr['best_mae'])\n",
    "# print(\"Best MAPE:\", best_result_hr['best_mape'])\n"
   ]
  },
  {
   "cell_type": "markdown",
   "metadata": {},
   "source": [
    "### Error dataset sampling"
   ]
  },
  {
   "cell_type": "code",
   "execution_count": 8,
   "metadata": {},
   "outputs": [
    {
     "name": "stdout",
     "output_type": "stream",
     "text": [
      "(1000100, 5)\n",
      "(1000, 5)\n"
     ]
    }
   ],
   "source": [
    "# Sample by interval\n",
    "interval = 1000  # Define the interval for I\n",
    "sampled_err_df = full_err_df[full_err_df['I'] % interval == 0]  # Sample rows where I is a multiple of the interval\\\n",
    "# sampled_err_df = sampled_err_df.query('N==1000000 and theta == 0.2')\n",
    "# sampled_err_df['transformed_error'] = np.log(-sampled_err_df['accumulated_error'] + sampled_err_df['accumulated_error'].max() + 1)\n",
    "print(full_err_df.shape)\n",
    "print(sampled_err_df.shape)"
   ]
  },
  {
   "cell_type": "code",
   "execution_count": 74,
   "metadata": {},
   "outputs": [
    {
     "name": "stdout",
     "output_type": "stream",
     "text": [
      "Mean Absolute Error: 12052.687458\n",
      "Predicted Accumulated Energy Error: -8612.771177\n"
     ]
    }
   ],
   "source": [
    "from sklearn.linear_model import Ridge, ElasticNet\n",
    "from sklearn.preprocessing import PolynomialFeatures\n",
    "\n",
    "base_model_poly = Pipeline([\n",
    "                    ('poly', PolynomialFeatures(5)),   # PolynomialFeatures step\n",
    "                    ('ridge', Ridge())                # Ridge regression step\n",
    "                ])\n",
    "\n",
    "from sklearn.model_selection import train_test_split\n",
    "from sklearn.preprocessing import StandardScaler, PolynomialFeatures\n",
    "from sklearn.ensemble import RandomForestRegressor\n",
    "from sklearn.metrics import mean_absolute_error\n",
    "from sklearn.linear_model import HuberRegressor\n",
    "\n",
    "# Features and target\n",
    "X = sampled_err_df[['N', 'theta', 'dt', 'I']]\n",
    "y = sampled_err_df['accumulated_error']\n",
    "\n",
    "# Train-test split\n",
    "X_train, X_test, y_train, y_test = train_test_split(X, y, test_size=0.2, random_state=42)\n",
    "\n",
    "# Preprocessing: Feature scaling\n",
    "scaler = FunctionTransformer(lambda x:x**1/10)\n",
    "X_train_scaled = scaler.fit_transform(X_train)\n",
    "X_test_scaled = scaler.transform(X_test)\n",
    "\n",
    "# Model: Random Forest Regressor\n",
    "# model = RandomForestRegressor(n_estimators=100, random_state=42)\n",
    "model = base_model_poly\n",
    "model.fit(X_train_scaled, y_train)\n",
    "\n",
    "# Predictions\n",
    "y_pred = model.predict(X_test_scaled)\n",
    "\n",
    "# Evaluate the model\n",
    "mae = mean_absolute_error(y_test, y_pred)\n",
    "print(f\"Mean Absolute Error: {mae:.6f}\")\n",
    "\n",
    "# Example Prediction for an arbitrary input\n",
    "example_input = {'N': 1000000, 'theta': 0.2, 'dt': 0.00625, 'I': 5000}\n",
    "example_scaled = scaler.transform(pd.DataFrame([example_input]))\n",
    "predicted_error = model.predict(example_scaled)\n",
    "print(f\"Predicted Accumulated Energy Error: {predicted_error[0]:.6f}\")"
   ]
  },
  {
   "cell_type": "code",
   "execution_count": 24,
   "metadata": {},
   "outputs": [],
   "source": [
    "# Define transformation functions\n",
    "def log_transform(y):\n",
    "    \"\"\"Log-transform the target variable.\"\"\"\n",
    "    offset = -y.min() + 1  # Shift to make all values positive\n",
    "    return np.log(y + offset)\n",
    "\n",
    "def inverse_log_transform(y_transformed):\n",
    "    \"\"\"Inverse log-transform the target variable.\"\"\"\n",
    "    offset = -sampled_err_df['transformed_error'].min() + 1\n",
    "    return np.exp(y_transformed) - offset"
   ]
  },
  {
   "cell_type": "code",
   "execution_count": 25,
   "metadata": {},
   "outputs": [
    {
     "name": "stdout",
     "output_type": "stream",
     "text": [
      "Testing 1 feature subset(s)...\n"
     ]
    },
    {
     "data": {
      "application/vnd.jupyter.widget-view+json": {
       "model_id": "30fc2f148a2b4a0b8fbfec78c6bb0b43",
       "version_major": 2,
       "version_minor": 0
      },
      "text/plain": [
       "Progress:   0%|          | 0/1 [00:00<?, ?subset/s]"
      ]
     },
     "metadata": {},
     "output_type": "display_data"
    },
    {
     "data": {
      "application/vnd.jupyter.widget-view+json": {
       "model_id": "9deab4bae88c4b019405424af32c0067",
       "version_major": 2,
       "version_minor": 0
      },
      "text/plain": [
       "Custom Text:   0%|          | 0/1 [00:00<?, ?update/s]"
      ]
     },
     "metadata": {},
     "output_type": "display_data"
    },
    {
     "name": "stdout",
     "output_type": "stream",
     "text": [
      "Results saved to CV_results/error/Ridge_Random_CV_results_1.json\n",
      "Best feature subset: ['N', 'theta', 'dt', 'I']\n",
      "Best parameters: {'regressor__model__alpha': 0.001, 'regressor__poly__degree': 5}\n",
      "Best MAE: 1756.1405526379906\n",
      "Best MAPE: 0.8949636043693834\n"
     ]
    }
   ],
   "source": [
    "from sklearn.tree import DecisionTreeRegressor\n",
    "from sklearn.svm import SVR, LinearSVR\n",
    "from sklearn.preprocessing import PowerTransformer, QuantileTransformer,FunctionTransformer,MinMaxScaler\n",
    "from sklearn.ensemble import GradientBoostingRegressor\n",
    "from sklearn.linear_model import HuberRegressor, Ridge\n",
    "from sklearn.preprocessing import PolynomialFeatures\n",
    "\n",
    "\n",
    "# Define dataset and parameters\n",
    "input_features = ['N', 'theta', 'dt', 'I']\n",
    "target_feature = 'accumulated_error'\n",
    "\n",
    "# base_model_poly = Pipeline([\n",
    "#                     ('poly', PolynomialFeatures()),   # PolynomialFeatures step\n",
    "#                     ('model', HuberRegressor())                # Ridge regression step\n",
    "#                 ])\n",
    "# param_distributions_poly = {\n",
    "#     'poly__degree': [2, 3, 4, 5],                  # Degree of polynomial features\n",
    "#     'ridge__alpha': [0.1, 1, 10, 100, 1000],       # Regularization parameter for Ridge\n",
    "#     'ridge__fit_intercept': [True, False],         # Whether to fit the intercept term\n",
    "#     'ridge__normalize': [True, False],             # Normalize inputs\n",
    "# }\n",
    "\n",
    "# Define the model pipeline\n",
    "pipeline = Pipeline(steps=[\n",
    "    # ('normalize', PowerTransformer()),\n",
    "    ('normalize', QuantileTransformer(n_quantiles=500)), # WORKS BETTER \n",
    "    # ('normalize', MinMaxScaler()), #BAD\n",
    "    \n",
    "    \n",
    "    # ('model', GradientBoostingRegressor(n_estimators=500, learning_rate=0.1, max_depth=6, random_state=42)) ## BEST YET\n",
    "    # ('model', SVR(C=100,epsilon=0.0001)) ## SECOND BEST AND NICE GENERALIZING!!!!\n",
    "    ('poly', PolynomialFeatures()),   # PolynomialFeatures step\n",
    "\n",
    "    ('model', Ridge())\n",
    "    # ('model', HuberRegressor())\n",
    "\n",
    "    # ('model', DecisionTreeRegressor())\n",
    "    # ('model', SVR())\n",
    "])\n",
    "\n",
    "# Wrap with TransformedTargetRegressor\n",
    "model = TransformedTargetRegressor(\n",
    "    regressor=pipeline, \n",
    "    transformer=QuantileTransformer(n_quantiles=500)\n",
    ")\n",
    "\n",
    "# Define hyperparameter grid\n",
    "model_params = {\n",
    "    # 'regressor__model__C': [10000,100000],\n",
    "    # 'regressor__model__epsilon': [0.000001,0.00001,0.0001, 0.001, 0.01, 0.1, 0.5, 1], \n",
    "    # 'regressor__model__kernel': ['rbf']\n",
    "}\n",
    "\n",
    "model_params = {\n",
    "    'regressor__poly__degree': [2, 3, 4, 5], \n",
    "    # 'regressor__model__epsilon': [1,1.35, 1.5, 1.75],\n",
    "    'regressor__model__alpha': [0.0001, 0.001, 0.01,0.1,1],\n",
    "}\n",
    "\n",
    "# Run feature subset evaluation using Random CV\n",
    "best_result_dt, res_dt = run_feature_subset_cv(\n",
    "    f_full=sampled_err_df,\n",
    "    input_features=input_features,\n",
    "    target_feature=target_feature,\n",
    "    model=model,\n",
    "    model_params=model_params,\n",
    "    output_folder=\"CV_results/error\",\n",
    "    use_feature_subsets=False,\n",
    "    refit_error='MAPE',\n",
    "    use_gpu_cv=False  # Set to False to use regular KFold\n",
    ")\n",
    "\n",
    "# Display the best result\n",
    "print(\"Best feature subset:\", best_result_dt['features'])\n",
    "print(\"Best parameters:\", best_result_dt['best_params'])\n",
    "print(\"Best MAE:\", best_result_dt['best_mae'])\n",
    "print(\"Best MAPE:\", best_result_dt['best_mape'])\n",
    "\n"
   ]
  },
  {
   "cell_type": "code",
   "execution_count": 28,
   "metadata": {},
   "outputs": [
    {
     "name": "stdout",
     "output_type": "stream",
     "text": [
      "Mean Absolute Error: 24.911457\n"
     ]
    }
   ],
   "source": [
    "from sklearn.model_selection import train_test_split\n",
    "\n",
    "X_train, X_test, y_train, y_test = train_test_split(sampled_err_df[input_features], sampled_err_df[target_feature], test_size=0.2, random_state=42)\n",
    "model.fit(X_train, y_train)\n",
    "\n",
    "# Predict and inverse transform the predictions\n",
    "y_pred = model.predict(X_test)\n",
    "\n",
    "# Evaluate\n",
    "mae = mean_absolute_percentage_error(y_test, y_pred)\n",
    "print(f\"Mean Absolute Error: {mae:.6f}\")"
   ]
  },
  {
   "cell_type": "code",
   "execution_count": 54,
   "metadata": {},
   "outputs": [
    {
     "name": "stdout",
     "output_type": "stream",
     "text": [
      "522051     -789.933965\n",
      "738072    -9184.564896\n",
      "741073   -14223.242100\n",
      "661065       -0.365562\n",
      "412040      -13.956371\n",
      "              ...     \n",
      "409039       -0.020764\n",
      "333032    -9902.535416\n",
      "209019       -0.009837\n",
      "614060       -5.213451\n",
      "79006     -2366.937615\n",
      "Name: accumulated_error, Length: 200, dtype: float64 [-810.2900329423506, -8626.067663678843, -14222.691431182546, -0.3581854877424601, -12.23801787403209, -2397.9081369653645, -1594.2272874232024, -46.76185073662526, -0.040438008448115535, -2397.6901785074992, -0.12004779400974315, -1943.0566589796745, -7318.115334571869, -89.30980329595815, -6035.3796893009685, -141477.47619582864, -4662.750430673194, -2157.411625956934, -1.4527635421528293, -1245.212534905422, -141858.74438834615, -1456.052867214168, -2022.2216787849525, -5290.6750913326605, -55.112975194921404, -11632.01484332887, -7.96733573058962e-05, -4377.622032698968, -0.0035021696631861595, -112824.42122777521, -42701.40041258096, -3732.184935910629, -194.562408749539, -141925.93912550318, -861.1585414841213, -46252.13165249408, -8725.786732692386, -13195.509526248818, -0.002055634131399977, -0.0034022582172030654, -6375.359348596536, -39303.872959025626, -98.65130234920751, -139.94205989680108, -57729.75531969493, -7283.891767323035, -137.43643887488878, -0.001375467343709299, -27649.188665836813, -5274.960050033597, -276.42684579804484, -580.7964416184766, -63.2855575275073, -6409.242086695303, -1492.2180731775904, -127.5681712996991, -22.63640171612678, -248.87280349051372, -1268.3768936932333, -6.133688467314129, -46165.577206666516, -4.0751697063463717e-05, -40702.22717656795, -0.009224668881694686, -0.008717885823930575, -42700.47797476037, -2.915187470214861, -1.532600439520211, -266.0430905938292, -54616.73090820678, 0.01896551655203101, -53846.132918980205, -13966.411844438013, -28288.46217393219, -19959.58445870792, -70942.5280832114, -0.006585756485924931, -1433.2948448720813, -27172.168060084885, 0.004581580556013784, -2858.563583706341, -1834.94603924234, -5334.80114353425, -2084.4475536964137, -856.6388263679747, -127893.54075053215, -127836.40779332168, -6.742573622383858, -0.030532416604251246, -5342.914321758978, -4834.749826466766, -0.009725334984309381, -1429.3515609783494, -1070.595880799104, -8385.57859567826, -17257.921917789845, -10.34948583297603, -1482.84750773511, -797.4031007938244, -263.1770731638237, -15.512093768340709, -0.0313967951371469, -4394.987825335044, -0.008313869334830052, -6667.481692769414, -70666.72204064074, -0.12426848185795841, -0.0392991491655936, -566.4999911062745, -1.446958805794889, -5793.767061432083, -87.55132205394618, -3624.2886255352496, -1.8681477631968613, -1144.2911951663086, -7155.690550210046, -901.8523291603067, -423.68193926734375, -14222.848839756092, -35305.147823669744, -41509.24605259668, -3953.9462178002973, -3.850701661165693, -48.31745663584584, -16246.756042882245, -0.2424463712314315, -10048.20671523504, -83504.17677024989, -1.7508606228500918, -0.0003784713134260235, -141142.70842625914, -137426.14825714973, -517.7830982877083, -85222.54762694142, -6559.996052468162, -0.00018122912326221866, -81.67762970113088, -567.7279786138619, -2395.297253026515, -774.4882779375117, -26651.674342598573, -52794.0618885625, -193.04453228964985, -12074.277533407076, -56178.24217030125, -0.702738599053314, -0.02900427625852462, -30696.198386201468, -50.831410507281994, -856.7267489708524, -56585.59701488887, 0.039469695118995625, -337.8728256390218, -6729.6702015009705, -28152.887263799945, -25.07829754562707, -1.2455840455551336e-05, -113878.6838427072, -296.27069780520327, -2868.8697217543186, -83512.65501380528, -22.60937207039503, -141341.48183134728, -0.0018170219483244466, -1.0559297349999286, -23.01477567769598, -59564.30953726428, -12272.652605577452, -320.9744879569985, -43.707821353195236, -23.998020151202258, -6693.212592897915, -898.6362752178695, -6737.966140590588, -20919.322397179414, -193.79998569161242, -0.004217283130026017, -0.01406155157384231, -0.0032362994788132137, -1984.9598123697442, -69137.28021365545, -51.221315557521685, -14131.435646694767, -4448.364883192261, -84786.73359359165, -2849.4327059340085, -0.0782172847126523, -327.8977156325257, -41238.811192772475, -142387.55130000174, -127443.20012190354, -564.7169092455216, -0.023808130621053455, -53313.11775818015, -289.5041204894326, -0.023557310871372077, -10612.753991354642, -0.007729840440775964, -5.4046328704831055, -2361.2807951573623]\n"
     ]
    }
   ],
   "source": [
    "print(y_test,list(y_pred))\n"
   ]
  },
  {
   "cell_type": "code",
   "execution_count": 67,
   "metadata": {},
   "outputs": [],
   "source": [
    "y_pred = model.predict(X_test)"
   ]
  },
  {
   "cell_type": "code",
   "execution_count": 69,
   "metadata": {},
   "outputs": [
    {
     "name": "stderr",
     "output_type": "stream",
     "text": [
      "/home/home-server/.local/lib/python3.10/site-packages/sklearn/base.py:493: UserWarning: X does not have valid feature names, but QuantileTransformer was fitted with feature names\n",
      "  warnings.warn(\n"
     ]
    },
    {
     "data": {
      "text/plain": [
       "array([-443.17583261])"
      ]
     },
     "execution_count": 69,
     "metadata": {},
     "output_type": "execute_result"
    }
   ],
   "source": [
    "model.predict([[100000,0.8,0.00625, 10000]])"
   ]
  },
  {
   "cell_type": "code",
   "execution_count": 32,
   "metadata": {},
   "outputs": [
    {
     "data": {
      "image/png": "[encoded data removed]",
      "text/plain": [
       "<Figure size 1000x600 with 1 Axes>"
      ]
     },
     "metadata": {},
     "output_type": "display_data"
    }
   ],
   "source": [
    "import pandas as pd\n",
    "import matplotlib.pyplot as plt\n",
    "\n",
    "df = sampled_err_df.copy()\n",
    "# Define the filter criteria\n",
    "filter_criteria = {\n",
    "    'theta': [0.2],\n",
    "    'N': [1000000],\n",
    "    # 'I': [10000],\n",
    "    'dt': [0.625]\n",
    "}\n",
    "\n",
    "# Apply filtering based on the filter criteria\n",
    "for feature, values in filter_criteria.items():\n",
    "    df = df[df[feature].isin(values)]\n",
    "\n",
    "# Add predictions to the filtered dataset\n",
    "df['predicted_accumulated_error'] = model.predict(df[['N', 'theta', 'dt', 'I']])\n",
    "\n",
    "# Group by a specific feature\n",
    "grouped = df.groupby('dt')\n",
    "\n",
    "# Plot X vs y for each group\n",
    "colors = ['blue', 'green', 'red', 'purple', 'yellow']  # Specify colors for each group if known\n",
    "\n",
    "# Create a figure and axis\n",
    "fig, ax = plt.subplots(figsize=(10, 6))\n",
    "\n",
    "# Plot X vs y with scatter points and connect them with dashed lines for each group\n",
    "for (group_name, group_data), color in zip(grouped, colors):\n",
    "    # Plot actual values\n",
    "    ax.scatter(group_data['I'], group_data['accumulated_error'], color=color, label=f'{group_name} - Actual')\n",
    "    ax.plot(group_data['I'], group_data['accumulated_error'], linestyle='--', color=color)  # Dashed line for actual\n",
    "    \n",
    "    # Plot predicted values\n",
    "    ax.scatter(group_data['I'], group_data['predicted_accumulated_error'], color=color, marker='x', label=f'{group_name} - Predicted')\n",
    "    ax.plot(group_data['I'], group_data['predicted_accumulated_error'], linestyle='-', color=color)  # Solid line for predicted\n",
    "\n",
    "# Add grid and logarithmic scales\n",
    "ax.grid(linestyle='-', linewidth=1)\n",
    "# ax.set_yscale(\"asinh\")         # Logarithmic scale for y-axis\n",
    "\n",
    "# Add labels, title, and legend\n",
    "ax.set_xlabel('I')\n",
    "ax.set_ylabel('accumulated_error')\n",
    "ax.set_title('I vs accumulated_error with Predictions, theta: [0.2], dt: [0.0625]')\n",
    "ax.legend()\n",
    "\n",
    "# Set x and y limits to cover the range of points\n",
    "# ax.set_xlim(df['I'].min() - 1, df['I'].max() + 1)\n",
    "# ax.set_ylim(df['accumulated_error'].min() * 0.8, df['accumulated_error'].max() * 1.2)\n",
    "\n",
    "plt.show()"
   ]
  }
 ],
 "metadata": {
  "kernelspec": {
   "display_name": "Python 3 (ipykernel)",
   "language": "python",
   "name": "python3"
  },
  "language_info": {
   "codemirror_mode": {
    "name": "ipython",
    "version": 3
   },
   "file_extension": ".py",
   "mimetype": "text/x-python",
   "name": "python",
   "nbconvert_exporter": "python",
   "pygments_lexer": "ipython3",
   "version": "3.10.12"
  }
 },
 "nbformat": 4,
 "nbformat_minor": 2
}
